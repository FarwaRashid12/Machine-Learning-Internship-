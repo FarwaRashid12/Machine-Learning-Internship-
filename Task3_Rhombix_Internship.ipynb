{
  "nbformat": 4,
  "nbformat_minor": 0,
  "metadata": {
    "colab": {
      "provenance": []
    },
    "kernelspec": {
      "name": "python3",
      "display_name": "Python 3"
    },
    "language_info": {
      "name": "python"
    }
  },
  "cells": [
    {
      "cell_type": "code",
      "execution_count": 1,
      "metadata": {
        "id": "0HM8czC-nPyd"
      },
      "outputs": [],
      "source": [
        "import pandas as pd\n",
        "import numpy as np\n",
        "import matplotlib.pyplot as plt\n",
        "import seaborn as sns\n",
        "\n",
        "from sklearn.model_selection import train_test_split, GridSearchCV\n",
        "from sklearn.linear_model import LogisticRegression\n",
        "from sklearn.preprocessing import StandardScaler, LabelEncoder\n",
        "from sklearn.metrics import classification_report, confusion_matrix\n",
        "from imblearn.over_sampling import SMOTE\n",
        "\n"
      ]
    },
    {
      "cell_type": "code",
      "source": [
        "# Load the CSV files\n",
        "app_df = pd.read_csv(\"application_record.csv\")\n",
        "credit_df = pd.read_csv(\"credit_record.csv\")\n"
      ],
      "metadata": {
        "id": "zLV436cTpF-o"
      },
      "execution_count": 2,
      "outputs": []
    },
    {
      "cell_type": "code",
      "source": [
        "# Mark applicants with any STATUS of 1–5 as defaulters\n",
        "defaulters = credit_df[credit_df['STATUS'].isin(['1', '2', '3', '4', '5'])]['ID'].unique()\n",
        "\n",
        "# Add target column to application data\n",
        "app_df['DEFAULT'] = app_df['ID'].apply(lambda x: 1 if x in defaulters else 0)\n",
        "\n",
        "# View balance of target variable\n",
        "print(app_df['DEFAULT'].value_counts())\n",
        "\n",
        "\n"
      ],
      "metadata": {
        "colab": {
          "base_uri": "https://localhost:8080/"
        },
        "id": "a0irkjZaob--",
        "outputId": "5a8bd91e-db32-42df-d3f7-d3e03bc41bff"
      },
      "execution_count": 3,
      "outputs": [
        {
          "output_type": "stream",
          "name": "stdout",
          "text": [
            "DEFAULT\n",
            "0    25143\n",
            "1      198\n",
            "Name: count, dtype: int64\n"
          ]
        }
      ]
    },
    {
      "cell_type": "code",
      "source": [
        "# Drop ID column (not needed for prediction)\n",
        "data = app_df.drop(columns=['ID'])\n"
      ],
      "metadata": {
        "id": "tgkzsZUyyEyU"
      },
      "execution_count": 4,
      "outputs": []
    },
    {
      "cell_type": "code",
      "source": [
        "# Check missing values\n",
        "print(data.isnull().sum())\n",
        "\n",
        "# Fill missing occupation with \"Unknown\"\n",
        "data['OCCUPATION_TYPE'].fillna(\"Unknown\", inplace=True)\n"
      ],
      "metadata": {
        "colab": {
          "base_uri": "https://localhost:8080/"
        },
        "id": "-O-9JEzHyH7D",
        "outputId": "5bcfab68-109a-401f-b45b-bba862258c26"
      },
      "execution_count": 5,
      "outputs": [
        {
          "output_type": "stream",
          "name": "stdout",
          "text": [
            "CODE_GENDER               0\n",
            "FLAG_OWN_CAR              0\n",
            "FLAG_OWN_REALTY           0\n",
            "CNT_CHILDREN              0\n",
            "AMT_INCOME_TOTAL          0\n",
            "NAME_INCOME_TYPE          0\n",
            "NAME_EDUCATION_TYPE       0\n",
            "NAME_FAMILY_STATUS        0\n",
            "NAME_HOUSING_TYPE         0\n",
            "DAYS_BIRTH                0\n",
            "DAYS_EMPLOYED             0\n",
            "FLAG_MOBIL                0\n",
            "FLAG_WORK_PHONE           0\n",
            "FLAG_PHONE                0\n",
            "FLAG_EMAIL                0\n",
            "OCCUPATION_TYPE        7920\n",
            "CNT_FAM_MEMBERS           0\n",
            "DEFAULT                   0\n",
            "dtype: int64\n"
          ]
        },
        {
          "output_type": "stream",
          "name": "stderr",
          "text": [
            "/tmp/ipython-input-5-2806207905.py:5: FutureWarning: A value is trying to be set on a copy of a DataFrame or Series through chained assignment using an inplace method.\n",
            "The behavior will change in pandas 3.0. This inplace method will never work because the intermediate object on which we are setting values always behaves as a copy.\n",
            "\n",
            "For example, when doing 'df[col].method(value, inplace=True)', try using 'df.method({col: value}, inplace=True)' or df[col] = df[col].method(value) instead, to perform the operation inplace on the original object.\n",
            "\n",
            "\n",
            "  data['OCCUPATION_TYPE'].fillna(\"Unknown\", inplace=True)\n"
          ]
        }
      ]
    },
    {
      "cell_type": "code",
      "source": [
        "# Encode binary variables\n",
        "binary_cols = ['CODE_GENDER', 'FLAG_OWN_CAR', 'FLAG_OWN_REALTY']\n",
        "for col in binary_cols:\n",
        "    data[col] = LabelEncoder().fit_transform(data[col])\n",
        "\n",
        "# One-hot encode other categoricals\n",
        "data = pd.get_dummies(data, drop_first=True)\n"
      ],
      "metadata": {
        "id": "HG1RV-JKzjbB"
      },
      "execution_count": 6,
      "outputs": []
    },
    {
      "cell_type": "code",
      "source": [
        "# Separate features and target\n",
        "X = data.drop('DEFAULT', axis=1)\n",
        "y = data['DEFAULT']\n",
        "\n",
        "# Scale features\n",
        "scaler = StandardScaler()\n",
        "X_scaled = scaler.fit_transform(X)\n"
      ],
      "metadata": {
        "id": "29ARhi-gznGV"
      },
      "execution_count": 7,
      "outputs": []
    },
    {
      "cell_type": "code",
      "source": [
        "from imblearn.over_sampling import SMOTE\n",
        "\n",
        "smote = SMOTE(random_state=42)\n",
        "X_resampled, y_resampled = smote.fit_resample(X_scaled, y)\n",
        "\n",
        "print(\"Before SMOTE:\", y.value_counts())\n",
        "print(\"After SMOTE:\", pd.Series(y_resampled).value_counts())\n"
      ],
      "metadata": {
        "id": "wq13ljOqzp7j",
        "colab": {
          "base_uri": "https://localhost:8080/"
        },
        "outputId": "f622dd4d-aa2f-4cb8-ceb4-156b844b5367"
      },
      "execution_count": 8,
      "outputs": [
        {
          "output_type": "stream",
          "name": "stdout",
          "text": [
            "Before SMOTE: DEFAULT\n",
            "0    25143\n",
            "1      198\n",
            "Name: count, dtype: int64\n",
            "After SMOTE: DEFAULT\n",
            "1    25143\n",
            "0    25143\n",
            "Name: count, dtype: int64\n"
          ]
        }
      ]
    },
    {
      "cell_type": "code",
      "source": [
        "X_train, X_test, y_train, y_test = train_test_split(\n",
        "    X_resampled, y_resampled, test_size=0.2, random_state=42, stratify=y_resampled)\n"
      ],
      "metadata": {
        "id": "bJxDw_4DH8GY"
      },
      "execution_count": 9,
      "outputs": []
    },
    {
      "cell_type": "code",
      "source": [
        "# Define model and parameter grid\n",
        "model = LogisticRegression(max_iter=1000)\n",
        "param_grid = {\n",
        "    'C': [0.01, 0.1, 1, 10],\n",
        "    'solver': ['liblinear', 'lbfgs']\n",
        "}\n",
        "\n",
        "grid = GridSearchCV(model, param_grid, cv=5, scoring='f1', verbose=1)\n",
        "grid.fit(X_train, y_train)\n",
        "\n",
        "# Best model\n",
        "best_model = grid.best_estimator_\n",
        "print(\"Best Params:\", grid.best_params_)\n"
      ],
      "metadata": {
        "colab": {
          "base_uri": "https://localhost:8080/"
        },
        "id": "fJtf111BH8-P",
        "outputId": "440665b2-e829-4d2b-b787-2b246117c337"
      },
      "execution_count": 10,
      "outputs": [
        {
          "output_type": "stream",
          "name": "stdout",
          "text": [
            "Fitting 5 folds for each of 8 candidates, totalling 40 fits\n",
            "Best Params: {'C': 0.1, 'solver': 'lbfgs'}\n"
          ]
        }
      ]
    },
    {
      "cell_type": "code",
      "source": [
        "# Predict\n",
        "y_pred = best_model.predict(X_test)\n",
        "\n",
        "# Metrics\n",
        "print(confusion_matrix(y_test, y_pred))\n",
        "print(classification_report(y_test, y_pred))\n"
      ],
      "metadata": {
        "colab": {
          "base_uri": "https://localhost:8080/"
        },
        "id": "IVpvVDiqH_SU",
        "outputId": "ec204629-c53b-49e7-dc0c-2150bc364806"
      },
      "execution_count": 11,
      "outputs": [
        {
          "output_type": "stream",
          "name": "stdout",
          "text": [
            "[[3605 1424]\n",
            " [1894 3135]]\n",
            "              precision    recall  f1-score   support\n",
            "\n",
            "           0       0.66      0.72      0.68      5029\n",
            "           1       0.69      0.62      0.65      5029\n",
            "\n",
            "    accuracy                           0.67     10058\n",
            "   macro avg       0.67      0.67      0.67     10058\n",
            "weighted avg       0.67      0.67      0.67     10058\n",
            "\n"
          ]
        }
      ]
    },
    {
      "cell_type": "code",
      "source": [],
      "metadata": {
        "id": "OGl14j0IIBlS"
      },
      "execution_count": null,
      "outputs": []
    }
  ]
}